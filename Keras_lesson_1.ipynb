{
  "nbformat": 4,
  "nbformat_minor": 0,
  "metadata": {
    "colab": {
      "name": "Keras_lesson_1.ipynb",
      "provenance": [],
      "collapsed_sections": [],
      "authorship_tag": "ABX9TyPYXcNOXDdnLGvE8ZS9GnZT"
    },
    "kernelspec": {
      "name": "python3",
      "display_name": "Python 3"
    }
  },
  "cells": [
    {
      "cell_type": "markdown",
      "metadata": {
        "id": "KALEjSGukQbQ",
        "colab_type": "text"
      },
      "source": [
        "The aim of this notebook is to get a feel for training a model using Keras. It is fine if you don't understand what these lines are doing, I will cover it later.\n",
        "\n",
        "\n",
        "Colab has tensorflow already installed. Let's load up the MNIST dataset"
      ]
    },
    {
      "cell_type": "code",
      "metadata": {
        "id": "O64EcuMOt-Jm",
        "colab_type": "code",
        "outputId": "976e42f2-b74a-4494-eef1-97c1cbea5f08",
        "colab": {
          "base_uri": "https://localhost:8080/",
          "height": 350
        }
      },
      "source": [
        "import tensorflow as tf\n",
        "from tensorflow.keras.datasets import mnist\n",
        "\n",
        "import numpy as np\n",
        "import matplotlib.pyplot as plt\n",
        "\n",
        "\n",
        "(train_images, train_labels), (test_images, test_labels) = mnist.load_data()\n",
        "\n",
        "print(train_images.shape)\n",
        "\n",
        "print(len(train_labels))\n",
        "\n",
        "print(train_labels)\n",
        "\n",
        "# see one image\n",
        "one_image = train_images[5]\n",
        "plt.figure()\n",
        "plt.imshow(one_image)\n",
        "plt.colorbar()\n",
        "plt.grid(False)\n",
        "plt.show()\n",
        "\n",
        "# Need to convert train_images entries in the range of 0-1 from 0-255\n",
        "# also change dType to float32 (255.0 does that)\n",
        "\n",
        "train_images, test_images = train_images/255.0, test_images/255.0\n",
        "train_labels = tf.keras.utils.to_categorical(train_labels)\n",
        "test_labels_orig = test_labels.copy()\n",
        "test_labels = tf.keras.utils.to_categorical(test_labels)\n"
      ],
      "execution_count": 2,
      "outputs": [
        {
          "output_type": "stream",
          "text": [
            "Downloading data from https://storage.googleapis.com/tensorflow/tf-keras-datasets/mnist.npz\n",
            "11493376/11490434 [==============================] - 0s 0us/step\n",
            "(60000, 28, 28)\n",
            "60000\n",
            "[5 0 4 ... 5 6 8]\n"
          ],
          "name": "stdout"
        },
        {
          "output_type": "display_data",
          "data": {
            "image/png": "[encoded data removed]",
            "text/plain": [
              "<Figure size 432x288 with 2 Axes>"
            ]
          },
          "metadata": {
            "tags": [],
            "needs_background": "light"
          }
        }
      ]
    },
    {
      "cell_type": "code",
      "metadata": {
        "id": "XS1Uzqc9oTP7",
        "colab_type": "code",
        "outputId": "d10a4ef9-200b-4f89-bf3d-6e44fe88cb49",
        "colab": {
          "base_uri": "https://localhost:8080/",
          "height": 204
        }
      },
      "source": [
        "network = tf.keras.models.Sequential()\n",
        "network.add(tf.keras.layers.Flatten(input_shape=(28, 28)))\n",
        "network.add(tf.keras.layers.Dense(512, activation='relu', input_shape=(28*28,)))\n",
        "network.add(tf.keras.layers.Dense(10, activation='softmax'))\n",
        "\n",
        "\n",
        "network.compile(optimizer='rmsprop',\n",
        "                loss='categorical_crossentropy',\n",
        "                metrics=['accuracy'])\n",
        "\n",
        "network.fit(train_images, train_labels, epochs=5, batch_size=128)"
      ],
      "execution_count": 3,
      "outputs": [
        {
          "output_type": "stream",
          "text": [
            "Epoch 1/5\n",
            "469/469 [==============================] - 4s 9ms/step - loss: 0.2563 - accuracy: 0.9253\n",
            "Epoch 2/5\n",
            "469/469 [==============================] - 4s 9ms/step - loss: 0.1032 - accuracy: 0.9686\n",
            "Epoch 3/5\n",
            "469/469 [==============================] - 4s 9ms/step - loss: 0.0684 - accuracy: 0.9799\n",
            "Epoch 4/5\n",
            "469/469 [==============================] - 4s 9ms/step - loss: 0.0489 - accuracy: 0.9851\n",
            "Epoch 5/5\n",
            "469/469 [==============================] - 4s 9ms/step - loss: 0.0374 - accuracy: 0.9884\n"
          ],
          "name": "stdout"
        },
        {
          "output_type": "execute_result",
          "data": {
            "text/plain": [
              "<tensorflow.python.keras.callbacks.History at 0x7fbb4caf2278>"
            ]
          },
          "metadata": {
            "tags": []
          },
          "execution_count": 3
        }
      ]
    },
    {
      "cell_type": "markdown",
      "metadata": {
        "id": "WB9pt23Bsg4S",
        "colab_type": "text"
      },
      "source": [
        "The above code adds a sequential model where you \"stack\" the layers. The first layer (`layers.Flatten`) helps to reshape the input from (6000, 28, 28) to (6000, 28*28). You can also use\n",
        "\n",
        "`train_images = train_images.reshape(6000, 28*28) `\n",
        "\n",
        "and avoid the flattening layer.\n",
        "\n",
        "once you add the network, you have to mention an '*optimizer*' which takes in the loss and tells how much the weights are to change and a '*loss function*' which says how much difference there is with the actual label and the predicted label.\n",
        "\n",
        "A 'Dense' layer means it's a fully connected layer. (every neuron gets all outputs?)\n",
        "\n",
        "The loss and accuracy printed alongside each epoch increases over each epoch.\n",
        "\n",
        "The batchsize is somehow connected to the train/test split, will update this with that.\n",
        "\n",
        "now we are going to run it on the test set and test labels."
      ]
    },
    {
      "cell_type": "code",
      "metadata": {
        "id": "Y6Gr6_XtuAFE",
        "colab_type": "code",
        "outputId": "6942a623-e74d-4eb2-b114-ca6ea0d3d553",
        "colab": {
          "base_uri": "https://localhost:8080/",
          "height": 51
        }
      },
      "source": [
        "test_loss, test_accuracy = network.evaluate(test_images, test_labels)\n",
        "print('loss: ', test_loss, ' Accuracy: ', test_accuracy)"
      ],
      "execution_count": 4,
      "outputs": [
        {
          "output_type": "stream",
          "text": [
            "313/313 [==============================] - 1s 2ms/step - loss: 0.0668 - accuracy: 0.9791\n",
            "loss:  0.06679893285036087  Accuracy:  0.9790999889373779\n"
          ],
          "name": "stdout"
        }
      ]
    },
    {
      "cell_type": "markdown",
      "metadata": {
        "id": "CGxYj2QR59a5",
        "colab_type": "text"
      },
      "source": [
        "Time to see what our model predicts. we take some data off the test set, see their labels and then see what our model has predicted."
      ]
    },
    {
      "cell_type": "code",
      "metadata": {
        "id": "DiBVwSP324Es",
        "colab_type": "code",
        "outputId": "2b45f98f-4e1f-4d2b-805e-d5d4a9358151",
        "colab": {
          "base_uri": "https://localhost:8080/",
          "height": 299
        }
      },
      "source": [
        "data = np.array([test_images[12],])\n",
        "label = test_labels_orig[12]\n",
        "# show images\n",
        "for i in data:\n",
        "  plt.imshow(i)\n",
        "  plt.show()\n",
        "# show labels\n",
        "print('Label of this image: ', label)\n",
        "\n",
        "# network.predict_classes(data)\n",
        "print('Result classes: ', np.argmax(network.predict(data), axis=-1))"
      ],
      "execution_count": 5,
      "outputs": [
        {
          "output_type": "display_data",
          "data": {
            "image/png": "[encoded data removed]",
            "text/plain": [
              "<Figure size 432x288 with 1 Axes>"
            ]
          },
          "metadata": {
            "tags": [],
            "needs_background": "light"
          }
        },
        {
          "output_type": "stream",
          "text": [
            "Label of this image:  9\n",
            "Result classes:  [9]\n"
          ],
          "name": "stdout"
        }
      ]
    },
    {
      "cell_type": "markdown",
      "metadata": {
        "id": "l448Fo3FuuIR",
        "colab_type": "text"
      },
      "source": [
        "now for extra credits, let's try adding a 'dropout' layer as shown in the example and see if that makes any difference. (https://www.tensorflow.org/tutorials/quickstart/beginner)\n",
        "\n",
        "\n",
        "We will get to the importance of dropout later (re: overfitting)\n"
      ]
    },
    {
      "cell_type": "code",
      "metadata": {
        "id": "BqrdlobcvCwj",
        "colab_type": "code",
        "outputId": "bc7c6ded-d679-46c7-9a48-7af268014a30",
        "colab": {
          "base_uri": "https://localhost:8080/",
          "height": 221
        }
      },
      "source": [
        "network2 = tf.keras.models.Sequential()\n",
        "network2.add(tf.keras.layers.Flatten(input_shape=(28, 28)))\n",
        "network2.add(tf.keras.layers.Dense(512, activation='relu', input_shape=(28*28,)))\n",
        "network2.add(tf.keras.layers.Dropout(0.2))\n",
        "network2.add(tf.keras.layers.Dense(10, activation='softmax'))\n",
        "\n",
        "\n",
        "network2.compile(optimizer='rmsprop',\n",
        "                loss='categorical_crossentropy',\n",
        "                metrics=['accuracy'])\n",
        "\n",
        "network2.fit(train_images, train_labels, epochs=5, batch_size=128)\n",
        "\n",
        "test_loss, test_accuracy = network2.evaluate(test_images, test_labels)\n",
        "print('loss: ', test_loss, ' Accuracy: ', test_accuracy)"
      ],
      "execution_count": 0,
      "outputs": [
        {
          "output_type": "stream",
          "text": [
            "Epoch 1/5\n",
            "469/469 [==============================] - 5s 10ms/step - loss: 0.2732 - accuracy: 0.9207\n",
            "Epoch 2/5\n",
            "469/469 [==============================] - 4s 10ms/step - loss: 0.1187 - accuracy: 0.9650\n",
            "Epoch 3/5\n",
            "469/469 [==============================] - 5s 10ms/step - loss: 0.0833 - accuracy: 0.9748\n",
            "Epoch 4/5\n",
            "469/469 [==============================] - 4s 9ms/step - loss: 0.0641 - accuracy: 0.9802\n",
            "Epoch 5/5\n",
            "469/469 [==============================] - 5s 10ms/step - loss: 0.0513 - accuracy: 0.9841\n",
            "313/313 [==============================] - 1s 2ms/step - loss: 0.0670 - accuracy: 0.9804\n",
            "loss:  0.06703482568264008  Accuracy:  0.980400025844574\n"
          ],
          "name": "stdout"
        }
      ]
    }
  ]
}